{
 "cells": [
  {
   "cell_type": "code",
   "execution_count": 92,
   "metadata": {},
   "outputs": [],
   "source": [
    "# Essential Imports\n",
    "import numpy as np \n",
    "import pandas as pd \n",
    "import matplotlib.pyplot as plt\n",
    "import seaborn as sns"
   ]
  },
  {
   "cell_type": "code",
   "execution_count": 93,
   "metadata": {},
   "outputs": [],
   "source": [
    "# Imports for feature engineering\n",
    "from sklearn.model_selection import train_test_split\n",
    "\n",
    "# Preprocessors\n",
    "from sklearn.preprocessing import OneHotEncoder \n",
    "\n",
    "from sklearn.impute import SimpleImputer ## HAndling Missing Values\n",
    "from sklearn.preprocessing import StandardScaler # HAndling Feature Scaling\n",
    "\n",
    "## pipelines\n",
    "from sklearn.pipeline import Pipeline\n",
    "from sklearn.compose import ColumnTransformer"
   ]
  },
  {
   "cell_type": "code",
   "execution_count": 94,
   "metadata": {},
   "outputs": [],
   "source": [
    "#Model \n",
    "from sklearn.linear_model import LinearRegression\n",
    "from sklearn.ensemble import RandomForestRegressor\n",
    "from sklearn.linear_model import Ridge\n",
    "from sklearn.linear_model import Lasso\n",
    "from sklearn.tree import DecisionTreeRegressor\n",
    "from sklearn.svm import SVR\n",
    "from sklearn.neighbors import KNeighborsRegressor\n",
    "from sklearn.ensemble import BaggingRegressor\n",
    "\n",
    "from sklearn.ensemble import AdaBoostRegressor, GradientBoostingRegressor\n",
    "from xgboost import XGBRegressor"
   ]
  },
  {
   "cell_type": "code",
   "execution_count": 95,
   "metadata": {},
   "outputs": [],
   "source": [
    "## Evaluation\n",
    "from sklearn.metrics import mean_absolute_error, mean_squared_error, r2_score\n",
    "from sklearn.model_selection import cross_val_score"
   ]
  },
  {
   "cell_type": "code",
   "execution_count": 96,
   "metadata": {},
   "outputs": [],
   "source": [
    "# Importing the data\n",
    "df = pd.read_csv(r\"data/cleaned_flight_fare.csv\")"
   ]
  },
  {
   "cell_type": "code",
   "execution_count": 97,
   "metadata": {},
   "outputs": [],
   "source": [
    "df.drop(\"Unnamed: 0\",axis=1,inplace=True)"
   ]
  },
  {
   "cell_type": "code",
   "execution_count": 98,
   "metadata": {},
   "outputs": [
    {
     "data": {
      "text/html": [
       "<div>\n",
       "<style scoped>\n",
       "    .dataframe tbody tr th:only-of-type {\n",
       "        vertical-align: middle;\n",
       "    }\n",
       "\n",
       "    .dataframe tbody tr th {\n",
       "        vertical-align: top;\n",
       "    }\n",
       "\n",
       "    .dataframe thead th {\n",
       "        text-align: right;\n",
       "    }\n",
       "</style>\n",
       "<table border=\"1\" class=\"dataframe\">\n",
       "  <thead>\n",
       "    <tr style=\"text-align: right;\">\n",
       "      <th></th>\n",
       "      <th>Airline</th>\n",
       "      <th>Date_of_Journey</th>\n",
       "      <th>Source</th>\n",
       "      <th>Destination</th>\n",
       "      <th>Route</th>\n",
       "      <th>Dep_Time</th>\n",
       "      <th>Arrival_Time</th>\n",
       "      <th>Duration</th>\n",
       "      <th>Total_Stops</th>\n",
       "      <th>Additional_Info</th>\n",
       "      <th>Price</th>\n",
       "      <th>Day</th>\n",
       "      <th>Month</th>\n",
       "      <th>Year</th>\n",
       "      <th>Weekdays</th>\n",
       "      <th>Time_Of_The_Day</th>\n",
       "    </tr>\n",
       "  </thead>\n",
       "  <tbody>\n",
       "    <tr>\n",
       "      <th>0</th>\n",
       "      <td>IndiGo</td>\n",
       "      <td>2019-03-24</td>\n",
       "      <td>Banglore</td>\n",
       "      <td>New Delhi</td>\n",
       "      <td>BLR → DEL</td>\n",
       "      <td>22:20:00</td>\n",
       "      <td>01:10:00</td>\n",
       "      <td>170</td>\n",
       "      <td>0.0</td>\n",
       "      <td>No info</td>\n",
       "      <td>3897</td>\n",
       "      <td>24</td>\n",
       "      <td>3</td>\n",
       "      <td>2019</td>\n",
       "      <td>Sunday</td>\n",
       "      <td>Night</td>\n",
       "    </tr>\n",
       "    <tr>\n",
       "      <th>1</th>\n",
       "      <td>Air India</td>\n",
       "      <td>2019-05-01</td>\n",
       "      <td>Kolkata</td>\n",
       "      <td>Banglore</td>\n",
       "      <td>CCU → IXR → BBI → BLR</td>\n",
       "      <td>05:50:00</td>\n",
       "      <td>13:15:00</td>\n",
       "      <td>445</td>\n",
       "      <td>2.0</td>\n",
       "      <td>No info</td>\n",
       "      <td>7662</td>\n",
       "      <td>1</td>\n",
       "      <td>5</td>\n",
       "      <td>2019</td>\n",
       "      <td>Wednesday</td>\n",
       "      <td>Night</td>\n",
       "    </tr>\n",
       "    <tr>\n",
       "      <th>2</th>\n",
       "      <td>Jet Airways</td>\n",
       "      <td>2019-06-09</td>\n",
       "      <td>Delhi</td>\n",
       "      <td>Cochin</td>\n",
       "      <td>DEL → LKO → MUM → COK</td>\n",
       "      <td>09:25:00</td>\n",
       "      <td>04:25:00</td>\n",
       "      <td>1140</td>\n",
       "      <td>2.0</td>\n",
       "      <td>No info</td>\n",
       "      <td>13882</td>\n",
       "      <td>9</td>\n",
       "      <td>6</td>\n",
       "      <td>2019</td>\n",
       "      <td>Sunday</td>\n",
       "      <td>Morning</td>\n",
       "    </tr>\n",
       "    <tr>\n",
       "      <th>3</th>\n",
       "      <td>IndiGo</td>\n",
       "      <td>2019-05-12</td>\n",
       "      <td>Kolkata</td>\n",
       "      <td>Banglore</td>\n",
       "      <td>CCU → NAG → BLR</td>\n",
       "      <td>18:05:00</td>\n",
       "      <td>23:30:00</td>\n",
       "      <td>325</td>\n",
       "      <td>1.0</td>\n",
       "      <td>No info</td>\n",
       "      <td>6218</td>\n",
       "      <td>12</td>\n",
       "      <td>5</td>\n",
       "      <td>2019</td>\n",
       "      <td>Sunday</td>\n",
       "      <td>Evening</td>\n",
       "    </tr>\n",
       "    <tr>\n",
       "      <th>4</th>\n",
       "      <td>IndiGo</td>\n",
       "      <td>2019-03-01</td>\n",
       "      <td>Banglore</td>\n",
       "      <td>New Delhi</td>\n",
       "      <td>BLR → NAG → DEL</td>\n",
       "      <td>16:50:00</td>\n",
       "      <td>21:35:00</td>\n",
       "      <td>285</td>\n",
       "      <td>1.0</td>\n",
       "      <td>No info</td>\n",
       "      <td>13302</td>\n",
       "      <td>1</td>\n",
       "      <td>3</td>\n",
       "      <td>2019</td>\n",
       "      <td>Friday</td>\n",
       "      <td>Afternoon</td>\n",
       "    </tr>\n",
       "  </tbody>\n",
       "</table>\n",
       "</div>"
      ],
      "text/plain": [
       "       Airline Date_of_Journey    Source Destination                  Route  \\\n",
       "0       IndiGo      2019-03-24  Banglore   New Delhi              BLR → DEL   \n",
       "1    Air India      2019-05-01   Kolkata    Banglore  CCU → IXR → BBI → BLR   \n",
       "2  Jet Airways      2019-06-09     Delhi      Cochin  DEL → LKO → MUM → COK   \n",
       "3       IndiGo      2019-05-12   Kolkata    Banglore        CCU → NAG → BLR   \n",
       "4       IndiGo      2019-03-01  Banglore   New Delhi        BLR → NAG → DEL   \n",
       "\n",
       "   Dep_Time Arrival_Time  Duration  Total_Stops Additional_Info  Price  Day  \\\n",
       "0  22:20:00     01:10:00       170          0.0         No info   3897   24   \n",
       "1  05:50:00     13:15:00       445          2.0         No info   7662    1   \n",
       "2  09:25:00     04:25:00      1140          2.0         No info  13882    9   \n",
       "3  18:05:00     23:30:00       325          1.0         No info   6218   12   \n",
       "4  16:50:00     21:35:00       285          1.0         No info  13302    1   \n",
       "\n",
       "   Month  Year   Weekdays Time_Of_The_Day  \n",
       "0      3  2019     Sunday           Night  \n",
       "1      5  2019  Wednesday           Night  \n",
       "2      6  2019     Sunday         Morning  \n",
       "3      5  2019     Sunday         Evening  \n",
       "4      3  2019     Friday       Afternoon  "
      ]
     },
     "execution_count": 98,
     "metadata": {},
     "output_type": "execute_result"
    }
   ],
   "source": [
    "df.head()"
   ]
  },
  {
   "cell_type": "code",
   "execution_count": 105,
   "metadata": {},
   "outputs": [],
   "source": [
    "# Splitting the data into train test split\n",
    "X = df.drop(\"Price\",axis=1)\n",
    "y = df[\"Price\"]\n",
    "\n",
    "X_train, X_test, y_train, y_test = train_test_split(X, y, test_size=0.33, random_state=42)"
   ]
  },
  {
   "cell_type": "markdown",
   "metadata": {},
   "source": [
    "## Feature Engineering Pipeline"
   ]
  },
  {
   "cell_type": "code",
   "execution_count": 106,
   "metadata": {},
   "outputs": [],
   "source": [
    "# Creating categorical and numerical columns list\n",
    "categorical_cols=X.select_dtypes(include='object').columns\n",
    "numerical_cols=X.select_dtypes(exclude='object').columns"
   ]
  },
  {
   "cell_type": "code",
   "execution_count": 107,
   "metadata": {},
   "outputs": [],
   "source": [
    "num_pipeline=Pipeline([\n",
    "    ('scaler', StandardScaler())\n",
    "])\n",
    "\n",
    "cat_pipeline = Pipeline([\n",
    "    ('one_hot_encoder', OneHotEncoder(sparse=False,handle_unknown=\"ignore\"))\n",
    "])\n",
    "\n",
    "preprocessor=ColumnTransformer(\n",
    "    [\n",
    "        ('num_pipeline',num_pipeline,numerical_cols),\n",
    "        ('cat_pipeline',cat_pipeline,categorical_cols),\n",
    "    ]\n",
    ")"
   ]
  },
  {
   "cell_type": "code",
   "execution_count": 108,
   "metadata": {
    "scrolled": true
   },
   "outputs": [],
   "source": [
    "X_train=pd.DataFrame(preprocessor.fit_transform(X_train),columns=preprocessor.get_feature_names_out())\n",
    "X_test=pd.DataFrame(preprocessor.transform(X_test),columns=preprocessor.get_feature_names_out())"
   ]
  },
  {
   "cell_type": "markdown",
   "metadata": {},
   "source": [
    "## Model Selection"
   ]
  },
  {
   "cell_type": "code",
   "execution_count": 109,
   "metadata": {},
   "outputs": [],
   "source": [
    "from sklearn.metrics import mean_absolute_error, mean_squared_error, r2_score\n",
    "import numpy as np\n",
    "\n",
    "def evaluate_regression_model(model, X_train, X_test, y_train, y_test):\n",
    "    y_train_pred = model.predict(X_train)\n",
    "    y_test_pred = model.predict(X_test)\n",
    "\n",
    "    mae_train = mean_absolute_error(y_train, y_train_pred)\n",
    "    mse_train = mean_squared_error(y_train, y_train_pred)\n",
    "    rmse_train = np.sqrt(mse_train)\n",
    "    r2_train = r2_score(y_train, y_train_pred)\n",
    "\n",
    "    mae_test = mean_absolute_error(y_test, y_test_pred)\n",
    "    mse_test = mean_squared_error(y_test, y_test_pred)\n",
    "    rmse_test = np.sqrt(mse_test)\n",
    "    r2_test = r2_score(y_test, y_test_pred)\n",
    "\n",
    "    evaluation_results = {\n",
    "        'Training MAE': mae_train,\n",
    "        # 'Training MSE': mse_train,\n",
    "        'Training RMSE': rmse_train,\n",
    "        'Training R-squared': r2_train,\n",
    "        # 'Test MAE': mae_test,\n",
    "        'Test MSE': mse_test,\n",
    "        'Test RMSE': rmse_test,\n",
    "        'Test R-squared': r2_test\n",
    "    }\n",
    "\n",
    "    return evaluation_results\n",
    "\n"
   ]
  },
  {
   "cell_type": "code",
   "execution_count": 110,
   "metadata": {},
   "outputs": [],
   "source": [
    "def result_printer(result):\n",
    "    for metric, value in result.items():\n",
    "      print(f\"{metric}: {value}\")"
   ]
  },
  {
   "cell_type": "markdown",
   "metadata": {},
   "source": [
    "### Checking the baseline performance"
   ]
  },
  {
   "cell_type": "code",
   "execution_count": 112,
   "metadata": {},
   "outputs": [
    {
     "name": "stdout",
     "output_type": "stream",
     "text": [
      "Linear Regression Model Evaluation:\n",
      "Training MAE: 1017.5067770009987\n",
      "Training RMSE: 1609.3906482477855\n",
      "Training R-squared: 0.8809296544577384\n",
      "Test MSE: 7.811446109586316e+27\n",
      "Test RMSE: 88382385742784.27\n",
      "Test R-squared: -3.7875345710908015e+20\n"
     ]
    }
   ],
   "source": [
    "# Linear Regression model\n",
    "linear_model = LinearRegression()\n",
    "linear_model.fit(X_train, y_train)\n",
    "\n",
    "linear_evaluation_results = evaluate_regression_model(linear_model, X_train, X_test, y_train, y_test)\n",
    "print(\"Linear Regression Model Evaluation:\")\n",
    "result_printer(linear_evaluation_results)"
   ]
  },
  {
   "cell_type": "code",
   "execution_count": 114,
   "metadata": {},
   "outputs": [
    {
     "name": "stdout",
     "output_type": "stream",
     "text": [
      "Ridge Model Evaluation\n",
      "Training MAE: 1044.6745239231097\n",
      "Training RMSE: 1657.525081856292\n",
      "Training R-squared: 0.8737007170396457\n",
      "Test MSE: 3870253.3478472685\n",
      "Test RMSE: 1967.295948210962\n",
      "Test R-squared: 0.8123430905340042\n"
     ]
    }
   ],
   "source": [
    "ridge_model = Ridge(alpha=1.0)\n",
    "ridge_model.fit(X_train, y_train)\n",
    "ridge_evaluation_results = evaluate_regression_model(ridge_model, X_train, X_test, y_train, y_test)\n",
    "print(\"Ridge Model Evaluation\")\n",
    "result_printer(ridge_evaluation_results)"
   ]
  },
  {
   "cell_type": "code",
   "execution_count": 115,
   "metadata": {},
   "outputs": [
    {
     "name": "stdout",
     "output_type": "stream",
     "text": [
      "Lasso Model Evaluation\n",
      "Training MAE: 1113.319620516553\n",
      "Training RMSE: 1725.3440247038254\n",
      "Training R-squared: 0.8631540101403228\n",
      "Test MSE: 4063980.4425462964\n",
      "Test RMSE: 2015.9316562191032\n",
      "Test R-squared: 0.802949848127466\n"
     ]
    }
   ],
   "source": [
    "lasso_model = Lasso(alpha=1.0)  \n",
    "lasso_model.fit(X_train, y_train)\n",
    "lasso_evaluation_results = evaluate_regression_model(lasso_model, X_train, X_test, y_train, y_test)\n",
    "print(\"Lasso Model Evaluation\")\n",
    "result_printer(lasso_evaluation_results)"
   ]
  },
  {
   "cell_type": "code",
   "execution_count": 116,
   "metadata": {},
   "outputs": [
    {
     "name": "stdout",
     "output_type": "stream",
     "text": [
      "Decision Tree Regressor Model Evaluation:\n",
      "Training MAE: 34.44918438198506\n",
      "Training RMSE: 274.38710574984873\n",
      "Training R-squared: 0.9965389484759885\n",
      "Test MSE: 3432986.225078032\n",
      "Test RMSE: 1852.8319473384606\n",
      "Test R-squared: 0.8335448542158584\n"
     ]
    }
   ],
   "source": [
    "decision_tree_model = DecisionTreeRegressor()\n",
    "decision_tree_model.fit(X_train, y_train)\n",
    "\n",
    "decision_tree_results =  evaluate_regression_model(decision_tree_model, X_train, X_test, y_train, y_test)\n",
    "print(\"Decision Tree Regressor Model Evaluation:\")\n",
    "result_printer(decision_tree_results)"
   ]
  },
  {
   "cell_type": "code",
   "execution_count": 119,
   "metadata": {},
   "outputs": [
    {
     "name": "stdout",
     "output_type": "stream",
     "text": [
      "Support Vector Regression (SVR) Model Evaluation:\n",
      "Training MAE: 3231.0456285881514\n",
      "Training RMSE: 4385.430281633586\n",
      "Training R-squared: 0.11589247038398354\n",
      "Test MSE: 18009985.302055735\n",
      "Test RMSE: 4243.817303095851\n",
      "Test R-squared: 0.1267501433228756\n"
     ]
    }
   ],
   "source": [
    "svr_model = SVR(kernel='sigmoid')\n",
    "svr_model.fit(X_train, y_train)\n",
    "\n",
    "svr_evaluation_results = evaluate_regression_model(svr_model, X_train, X_test, y_train, y_test)\n",
    "print(\"Support Vector Regression (SVR) Model Evaluation:\")\n",
    "result_printer(svr_evaluation_results)"
   ]
  },
  {
   "cell_type": "code",
   "execution_count": 120,
   "metadata": {},
   "outputs": [
    {
     "name": "stdout",
     "output_type": "stream",
     "text": [
      "Random Forest Regressor Model Evaluation:\n",
      "Training MAE: 241.45725273571168\n",
      "Training RMSE: 637.3495533376487\n",
      "Training R-squared: 0.9813260565771924\n",
      "Test MSE: 2415764.0922070597\n",
      "Test RMSE: 1554.272849987112\n",
      "Test R-squared: 0.882866886790587\n"
     ]
    }
   ],
   "source": [
    "# Random Forest Regressor model\n",
    "rf_model = RandomForestRegressor(random_state=42)\n",
    "rf_model.fit(X_train, y_train)\n",
    "\n",
    "# Evaluate the Random Forest Regressor model\n",
    "rf_evaluation_results = evaluate_regression_model(rf_model, X_train, X_test, y_train, y_test)\n",
    "print(\"Random Forest Regressor Model Evaluation:\")\n",
    "result_printer(rf_evaluation_results)"
   ]
  },
  {
   "cell_type": "code",
   "execution_count": 121,
   "metadata": {},
   "outputs": [
    {
     "name": "stdout",
     "output_type": "stream",
     "text": [
      "K-Nearest Neighbors (KNN) Regression Model Evaluation:\n",
      "Training MAE: 854.6222570980169\n",
      "Training RMSE: 1578.8351978415023\n",
      "Training R-squared: 0.885408008611483\n",
      "Test MSE: 3580453.4512945265\n",
      "Test RMSE: 1892.2086172762574\n",
      "Test R-squared: 0.8263946132801578\n"
     ]
    }
   ],
   "source": [
    " #  K-Nearest Neighbors Regression model\n",
    "knn_model = KNeighborsRegressor()\n",
    "knn_model.fit(X_train, y_train)\n",
    "\n",
    "# Evaluate the model\n",
    "knn_evaluation_results = evaluate_regression_model(knn_model, X_train, X_test, y_train, y_test)\n",
    "\n",
    "print(\"K-Nearest Neighbors (KNN) Regression Model Evaluation:\")\n",
    "result_printer(knn_evaluation_results)"
   ]
  },
  {
   "cell_type": "code",
   "execution_count": 122,
   "metadata": {},
   "outputs": [
    {
     "name": "stdout",
     "output_type": "stream",
     "text": [
      "AdaBoost Model Evaluation:\n",
      "Training MAE: 34.44918438198506\n",
      "Training RMSE: 274.38710574984873\n",
      "Training R-squared: 0.9965389484759885\n",
      "Test MSE: 3432986.225078032\n",
      "Test RMSE: 1852.8319473384606\n",
      "Test R-squared: 0.8335448542158584\n"
     ]
    }
   ],
   "source": [
    "# AdaBoost\n",
    "adaboost_model = AdaBoostRegressor(n_estimators=50, random_state=42)\n",
    "adaboost_model.fit(X_train, y_train)\n",
    "\n",
    "adaboost_evaluation_results = evaluate_regression_model(adaboost_model, X_train, X_test, y_train, y_test)\n",
    "print(\"AdaBoost Model Evaluation:\")\n",
    "result_printer(decision_tree_results)"
   ]
  },
  {
   "cell_type": "code",
   "execution_count": 123,
   "metadata": {},
   "outputs": [
    {
     "name": "stdout",
     "output_type": "stream",
     "text": [
      "Gradient Boosting Model Evaluation:\n",
      "Training MAE: 1207.0001179612557\n",
      "Training RMSE: 1749.275926701553\n",
      "Training R-squared: 0.8593313543676896\n",
      "Test MSE: 4076912.6858616103\n",
      "Test RMSE: 2019.1366189194853\n",
      "Test R-squared: 0.8023228026617307\n"
     ]
    }
   ],
   "source": [
    "# Gradient Boosting\n",
    "gradient_boosting_model = GradientBoostingRegressor(n_estimators=100, random_state=42)\n",
    "gradient_boosting_model.fit(X_train, y_train)\n",
    "\n",
    "gradient_boostin_evaluation_results = evaluate_regression_model(gradient_boosting_model, X_train, X_test, y_train, y_test)\n",
    "print(\"Gradient Boosting Model Evaluation:\")\n",
    "result_printer(gradient_boostin_evaluation_results)"
   ]
  },
  {
   "cell_type": "code",
   "execution_count": null,
   "metadata": {},
   "outputs": [],
   "source": []
  }
 ],
 "metadata": {
  "kernelspec": {
   "display_name": "Python 3 (ipykernel)",
   "language": "python",
   "name": "python3"
  },
  "language_info": {
   "codemirror_mode": {
    "name": "ipython",
    "version": 3
   },
   "file_extension": ".py",
   "mimetype": "text/x-python",
   "name": "python",
   "nbconvert_exporter": "python",
   "pygments_lexer": "ipython3",
   "version": "3.9.13"
  }
 },
 "nbformat": 4,
 "nbformat_minor": 2
}
